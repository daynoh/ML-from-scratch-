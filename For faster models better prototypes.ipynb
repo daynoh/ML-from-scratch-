{
 "cells": [
  {
   "cell_type": "markdown",
   "id": "769de56a",
   "metadata": {},
   "source": [
    "### Creating models that deal with vanishing and exploding gradients"
   ]
  },
  {
   "cell_type": "code",
   "execution_count": null,
   "id": "b094bcdf",
   "metadata": {},
   "outputs": [],
   "source": [
    "from tensorflow import keras\n",
    "\n",
    "from tensorflow.keras import Dense"
   ]
  },
  {
   "cell_type": "code",
   "execution_count": null,
   "id": "749de2d0",
   "metadata": {},
   "outputs": [],
   "source": [
    "model = keras.models.Sequential([keras.layers.Flatten(input_shape = [28,28]),\n",
    "                                keras.layers.BatchNormalization(),\n",
    "                                keras.layers.Dense(300, activation = \"elu\", kernel_initializer = \"he_normal\"),\n",
    "                                keras.layers.BatchNormalization(),\n",
    "                                keras.layers.Dense(100, activation = \"elu\", kernel_initializer = 'he_normal'),\n",
    "                                keras.layers.BatchNormalization(),\n",
    "                                Keras.layers.Dense(10, activation = \"softmax\")])\n",
    "\n",
    "\n",
    "# Elu is a non saturatin activation function"
   ]
  }
 ],
 "metadata": {
  "kernelspec": {
   "display_name": "Python 3 (ipykernel)",
   "language": "python",
   "name": "python3"
  },
  "language_info": {
   "codemirror_mode": {
    "name": "ipython",
    "version": 3
   },
   "file_extension": ".py",
   "mimetype": "text/x-python",
   "name": "python",
   "nbconvert_exporter": "python",
   "pygments_lexer": "ipython3",
   "version": "3.8.10"
  }
 },
 "nbformat": 4,
 "nbformat_minor": 5
}
