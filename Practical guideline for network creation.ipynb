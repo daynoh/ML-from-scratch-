{
 "cells": [
  {
   "cell_type": "markdown",
   "id": "dfa91281",
   "metadata": {},
   "source": [
    "Configuratioins that work well in most cases\n",
    "Table 11-3. Default DNN configuration\n",
    "Hyperparameter     : Default value\n",
    "Kernel initializer : He initialization\n",
    "Activation function: ELU\n",
    "Normalization      : None if shallow; Batch Norm if deep\n",
    "Regularization     : Early stopping (+l 2 reg. if needed)\n",
    "Optimizer          : Momentum optimization (or RMSProp or Nadam)\n",
    "Learning rate schedule: 1cycle"
   ]
  },
  {
   "cell_type": "code",
   "execution_count": null,
   "id": "f4f3f7b4",
   "metadata": {},
   "outputs": [],
   "source": [
    "If the network is a simple stack of dense layers, then it can self-normalize,\n",
    "and you should use the configuration in Table 11-4 instead.\n",
    "Table 11-4. DNN configuration for a self-normalizing net\n",
    "Hyperparameter Default value\n",
    "Kernel initializer LeCun initialization\n",
    "Activation function SELU\n",
    "Normalization None (self-normalization)\n",
    "Regularization Alpha dropout if needed\n",
    "Optimizer Momentum optimization (or RMSProp or Nadam)\n",
    "Learning rate schedule 1cycle"
   ]
  }
 ],
 "metadata": {
  "kernelspec": {
   "display_name": "Python 3 (ipykernel)",
   "language": "python",
   "name": "python3"
  },
  "language_info": {
   "codemirror_mode": {
    "name": "ipython",
    "version": 3
   },
   "file_extension": ".py",
   "mimetype": "text/x-python",
   "name": "python",
   "nbconvert_exporter": "python",
   "pygments_lexer": "ipython3",
   "version": "3.8.10"
  }
 },
 "nbformat": 4,
 "nbformat_minor": 5
}
