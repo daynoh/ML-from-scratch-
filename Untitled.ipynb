{
 "cells": [
  {
   "cell_type": "code",
   "execution_count": 3,
   "id": "4a642ad6",
   "metadata": {},
   "outputs": [],
   "source": [
    "from sklearn.datasets import load_sample_image\n",
    "import numpy as np"
   ]
  },
  {
   "cell_type": "code",
   "execution_count": 4,
   "id": "c93172a0",
   "metadata": {},
   "outputs": [],
   "source": [
    "# load sample images\n",
    "\n",
    "\n",
    "china = load_sample_image('china.jpg')/255\n",
    "flower = load_sample_image('china.jpg')/255\n",
    "\n",
    "images = np.array([china, flower])"
   ]
  },
  {
   "cell_type": "code",
   "execution_count": 6,
   "id": "503c1aa5",
   "metadata": {},
   "outputs": [
    {
     "data": {
      "text/plain": [
       "(2, 427, 640, 3)"
      ]
     },
     "execution_count": 6,
     "metadata": {},
     "output_type": "execute_result"
    }
   ],
   "source": [
    "batch_size, height, width, channels = images.shape\n",
    "images.shape"
   ]
  },
  {
   "cell_type": "code",
   "execution_count": 10,
   "id": "ba154acd",
   "metadata": {},
   "outputs": [],
   "source": [
    "##Creating 2 filters \n",
    "\n",
    "filters = np.zeros(shape = (7,7, channels, 2), dtype = np.float32)\n",
    "filters[:,3,:,0] = 1 # vertical line\n",
    "filters[3,:,:,1] = 1 # horizontal line"
   ]
  },
  {
   "cell_type": "code",
   "execution_count": null,
   "id": "16f4102d",
   "metadata": {},
   "outputs": [],
   "source": [
    "outputs = tf.nn.conv2d(images, filters, strides = 1, padding = \"same\")"
   ]
  }
 ],
 "metadata": {
  "kernelspec": {
   "display_name": "Python 3 (ipykernel)",
   "language": "python",
   "name": "python3"
  },
  "language_info": {
   "codemirror_mode": {
    "name": "ipython",
    "version": 3
   },
   "file_extension": ".py",
   "mimetype": "text/x-python",
   "name": "python",
   "nbconvert_exporter": "python",
   "pygments_lexer": "ipython3",
   "version": "3.8.10"
  }
 },
 "nbformat": 4,
 "nbformat_minor": 5
}
